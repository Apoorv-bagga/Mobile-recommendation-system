{
 "cells": [
  {
   "cell_type": "code",
   "execution_count": 1,
   "id": "6c58f415-ee53-4b7b-9c5f-2c33b494c771",
   "metadata": {},
   "outputs": [],
   "source": [
    "import pandas as pd\n",
    "import numpy as np\n",
    "import seaborn as sns\n",
    "import matplotlib.pyplot as plt"
   ]
  },
  {
   "cell_type": "code",
   "execution_count": 3,
   "id": "467a85bf-62d3-4efb-8e6f-e27a0594cc6d",
   "metadata": {},
   "outputs": [],
   "source": [
    "df = pd.read_csv('Mobiles_Dataset.csv')"
   ]
  },
  {
   "cell_type": "code",
   "execution_count": 4,
   "id": "aab97f2a-742d-423f-b1ef-9b6a3918c57f",
   "metadata": {},
   "outputs": [
    {
     "data": {
      "text/plain": [
       "(984, 12)"
      ]
     },
     "execution_count": 4,
     "metadata": {},
     "output_type": "execute_result"
    }
   ],
   "source": [
    "df.shape"
   ]
  },
  {
   "cell_type": "code",
   "execution_count": 5,
   "id": "55aadc51-cb54-4f38-8144-fa6af69e8a5f",
   "metadata": {},
   "outputs": [
    {
     "data": {
      "text/html": [
       "<div>\n",
       "<style scoped>\n",
       "    .dataframe tbody tr th:only-of-type {\n",
       "        vertical-align: middle;\n",
       "    }\n",
       "\n",
       "    .dataframe tbody tr th {\n",
       "        vertical-align: top;\n",
       "    }\n",
       "\n",
       "    .dataframe thead th {\n",
       "        text-align: right;\n",
       "    }\n",
       "</style>\n",
       "<table border=\"1\" class=\"dataframe\">\n",
       "  <thead>\n",
       "    <tr style=\"text-align: right;\">\n",
       "      <th></th>\n",
       "      <th>Product Name</th>\n",
       "      <th>Actual price</th>\n",
       "      <th>Discount price</th>\n",
       "      <th>Stars</th>\n",
       "      <th>Rating</th>\n",
       "      <th>Reviews</th>\n",
       "      <th>RAM (GB)</th>\n",
       "      <th>Storage (GB)</th>\n",
       "      <th>Display Size (inch)</th>\n",
       "      <th>Camera</th>\n",
       "      <th>Description</th>\n",
       "      <th>Link</th>\n",
       "    </tr>\n",
       "  </thead>\n",
       "  <tbody>\n",
       "    <tr>\n",
       "      <th>0</th>\n",
       "      <td>Apple iPhone 15 (Green, 128 GB)</td>\n",
       "      <td>₹79,600</td>\n",
       "      <td>₹65,999</td>\n",
       "      <td>4.6</td>\n",
       "      <td>44,793 Ratings</td>\n",
       "      <td>2,402 Reviews</td>\n",
       "      <td>NIL</td>\n",
       "      <td>128</td>\n",
       "      <td>6.10</td>\n",
       "      <td>48MP + 12MP</td>\n",
       "      <td>128 GB ROM15.49 cm (6.1 inch) Super Retina XDR...</td>\n",
       "      <td>https://www.flipkart.com/apple-iphone-15-green...</td>\n",
       "    </tr>\n",
       "    <tr>\n",
       "      <th>1</th>\n",
       "      <td>Apple iPhone 15 (Blue, 128 GB)</td>\n",
       "      <td>₹79,600</td>\n",
       "      <td>₹65,999</td>\n",
       "      <td>4.6</td>\n",
       "      <td>44,793 Ratings</td>\n",
       "      <td>2,402 Reviews</td>\n",
       "      <td>NIL</td>\n",
       "      <td>128</td>\n",
       "      <td>6.10</td>\n",
       "      <td>48MP + 12MP</td>\n",
       "      <td>128 GB ROM15.49 cm (6.1 inch) Super Retina XDR...</td>\n",
       "      <td>https://www.flipkart.com/apple-iphone-15-blue-...</td>\n",
       "    </tr>\n",
       "    <tr>\n",
       "      <th>2</th>\n",
       "      <td>Apple iPhone 15 (Black, 128 GB)</td>\n",
       "      <td>₹79,600</td>\n",
       "      <td>₹65,999</td>\n",
       "      <td>4.6</td>\n",
       "      <td>44,793 Ratings</td>\n",
       "      <td>2,402 Reviews</td>\n",
       "      <td>NIL</td>\n",
       "      <td>128</td>\n",
       "      <td>6.10</td>\n",
       "      <td>48MP + 12MP</td>\n",
       "      <td>128 GB ROM15.49 cm (6.1 inch) Super Retina XDR...</td>\n",
       "      <td>https://www.flipkart.com/apple-iphone-15-black...</td>\n",
       "    </tr>\n",
       "    <tr>\n",
       "      <th>3</th>\n",
       "      <td>OnePlus N20 SE (JADE WAVE, 128 GB)</td>\n",
       "      <td>₹19,999</td>\n",
       "      <td>₹11,489</td>\n",
       "      <td>4.0</td>\n",
       "      <td>1,005 Ratings</td>\n",
       "      <td>41 Reviews</td>\n",
       "      <td>4</td>\n",
       "      <td>128</td>\n",
       "      <td>6.56</td>\n",
       "      <td>50MP</td>\n",
       "      <td>4 GB RAM | 128 GB ROM16.66 cm (6.56 inch) Disp...</td>\n",
       "      <td>https://www.flipkart.com/oneplus-n20-se-jade-w...</td>\n",
       "    </tr>\n",
       "    <tr>\n",
       "      <th>4</th>\n",
       "      <td>OnePlus N20 SE (BLUE OASIS, 64 GB)</td>\n",
       "      <td>₹16,999</td>\n",
       "      <td>₹12,999</td>\n",
       "      <td>4.0</td>\n",
       "      <td>1,005 Ratings</td>\n",
       "      <td>41 Reviews</td>\n",
       "      <td>4</td>\n",
       "      <td>64</td>\n",
       "      <td>6.56</td>\n",
       "      <td>50MP</td>\n",
       "      <td>4 GB RAM | 64 GB ROM16.66 cm (6.56 inch) Displ...</td>\n",
       "      <td>https://www.flipkart.com/oneplus-n20-se-blue-o...</td>\n",
       "    </tr>\n",
       "  </tbody>\n",
       "</table>\n",
       "</div>"
      ],
      "text/plain": [
       "                         Product Name Actual price Discount price  Stars  \\\n",
       "0     Apple iPhone 15 (Green, 128 GB)      ₹79,600        ₹65,999    4.6   \n",
       "1      Apple iPhone 15 (Blue, 128 GB)      ₹79,600        ₹65,999    4.6   \n",
       "2     Apple iPhone 15 (Black, 128 GB)      ₹79,600        ₹65,999    4.6   \n",
       "3  OnePlus N20 SE (JADE WAVE, 128 GB)      ₹19,999        ₹11,489    4.0   \n",
       "4  OnePlus N20 SE (BLUE OASIS, 64 GB)      ₹16,999        ₹12,999    4.0   \n",
       "\n",
       "           Rating        Reviews RAM (GB) Storage (GB)  Display Size (inch)  \\\n",
       "0  44,793 Ratings  2,402 Reviews      NIL          128                 6.10   \n",
       "1  44,793 Ratings  2,402 Reviews      NIL          128                 6.10   \n",
       "2  44,793 Ratings  2,402 Reviews      NIL          128                 6.10   \n",
       "3   1,005 Ratings     41 Reviews        4          128                 6.56   \n",
       "4   1,005 Ratings     41 Reviews        4           64                 6.56   \n",
       "\n",
       "        Camera                                        Description  \\\n",
       "0  48MP + 12MP  128 GB ROM15.49 cm (6.1 inch) Super Retina XDR...   \n",
       "1  48MP + 12MP  128 GB ROM15.49 cm (6.1 inch) Super Retina XDR...   \n",
       "2  48MP + 12MP  128 GB ROM15.49 cm (6.1 inch) Super Retina XDR...   \n",
       "3        50MP   4 GB RAM | 128 GB ROM16.66 cm (6.56 inch) Disp...   \n",
       "4        50MP   4 GB RAM | 64 GB ROM16.66 cm (6.56 inch) Displ...   \n",
       "\n",
       "                                                Link  \n",
       "0  https://www.flipkart.com/apple-iphone-15-green...  \n",
       "1  https://www.flipkart.com/apple-iphone-15-blue-...  \n",
       "2  https://www.flipkart.com/apple-iphone-15-black...  \n",
       "3  https://www.flipkart.com/oneplus-n20-se-jade-w...  \n",
       "4  https://www.flipkart.com/oneplus-n20-se-blue-o...  "
      ]
     },
     "execution_count": 5,
     "metadata": {},
     "output_type": "execute_result"
    }
   ],
   "source": [
    "df.head()"
   ]
  },
  {
   "cell_type": "code",
   "execution_count": 6,
   "id": "317ccf7c-0338-403d-837f-e77548fb4576",
   "metadata": {},
   "outputs": [],
   "source": [
    "df.reset_index(inplace=True)"
   ]
  },
  {
   "cell_type": "code",
   "execution_count": 7,
   "id": "69bed8b0-dec4-4067-88fe-974d070cc946",
   "metadata": {},
   "outputs": [],
   "source": [
    "df = df.iloc[:,[0,1,3,4,5,6,7,8,9,10,11,12]]"
   ]
  },
  {
   "cell_type": "code",
   "execution_count": 8,
   "id": "9eabeb80-47ef-4792-a382-a7c25d4cdfc1",
   "metadata": {},
   "outputs": [],
   "source": [
    "df.reset_index(inplace=True)"
   ]
  },
  {
   "cell_type": "code",
   "execution_count": 9,
   "id": "1e48b199-6695-4185-84ab-9fe5131f16c3",
   "metadata": {},
   "outputs": [],
   "source": [
    "df=df.copy()\n",
    "df.rename(columns={\"index\":\"id\",\n",
    "                     \"Product Name\":\"Name\",\n",
    "                     \"Discount price\":\"Price\",\n",
    "                     \"Stars\":\"stars\",\n",
    "                     \"Reviews\":\"reviews\",\n",
    "                     \"Rating\":\"rating\",\n",
    "                     \"RAM (GB)\":\"RAM\",\n",
    "                     \"Storage (GB)\":\"storage\",\n",
    "                    \"Display Size (inch)\":\"display\",\n",
    "                    \"Camera\":\"camera\",\n",
    "                    \"Description\":\"description\",\n",
    "                    \"Link\":\"url\"},inplace=True)"
   ]
  },
  {
   "cell_type": "code",
   "execution_count": 10,
   "id": "c1725581-112d-4663-bda4-d87bd04d6447",
   "metadata": {},
   "outputs": [],
   "source": [
    "df['Name'] = df['Name'].str.replace(r'\\s*\\(.*?\\)', '', regex=True)\n",
    "df['rating'] = df['rating'].str.replace(' Ratings', '').str.replace(',', '').astype(int)"
   ]
  },
  {
   "cell_type": "code",
   "execution_count": 11,
   "id": "25c668f7-657b-47be-808b-34bbbe1250e2",
   "metadata": {},
   "outputs": [],
   "source": [
    "df['reviews'] = df['reviews'].str.replace(' Reviews', '').str.replace(',', '').astype(int)"
   ]
  },
  {
   "cell_type": "code",
   "execution_count": 13,
   "id": "5fb0f4a5-f7ac-4012-8991-0478cff4ebe7",
   "metadata": {},
   "outputs": [],
   "source": [
    "df=df.drop_duplicates(['Name'])"
   ]
  },
  {
   "cell_type": "code",
   "execution_count": 14,
   "id": "3b2487b7-7b26-4b2d-9802-6e77acf30246",
   "metadata": {},
   "outputs": [
    {
     "data": {
      "text/html": [
       "<div>\n",
       "<style scoped>\n",
       "    .dataframe tbody tr th:only-of-type {\n",
       "        vertical-align: middle;\n",
       "    }\n",
       "\n",
       "    .dataframe tbody tr th {\n",
       "        vertical-align: top;\n",
       "    }\n",
       "\n",
       "    .dataframe thead th {\n",
       "        text-align: right;\n",
       "    }\n",
       "</style>\n",
       "<table border=\"1\" class=\"dataframe\">\n",
       "  <thead>\n",
       "    <tr style=\"text-align: right;\">\n",
       "      <th></th>\n",
       "      <th>level_0</th>\n",
       "      <th>id</th>\n",
       "      <th>Name</th>\n",
       "      <th>Price</th>\n",
       "      <th>stars</th>\n",
       "      <th>rating</th>\n",
       "      <th>reviews</th>\n",
       "      <th>RAM</th>\n",
       "      <th>storage</th>\n",
       "      <th>display</th>\n",
       "      <th>camera</th>\n",
       "      <th>description</th>\n",
       "      <th>url</th>\n",
       "    </tr>\n",
       "  </thead>\n",
       "  <tbody>\n",
       "    <tr>\n",
       "      <th>0</th>\n",
       "      <td>0</td>\n",
       "      <td>0</td>\n",
       "      <td>Apple iPhone 15</td>\n",
       "      <td>₹65,999</td>\n",
       "      <td>4.6</td>\n",
       "      <td>44793</td>\n",
       "      <td>2402</td>\n",
       "      <td>NIL</td>\n",
       "      <td>128</td>\n",
       "      <td>6.10</td>\n",
       "      <td>48MP + 12MP</td>\n",
       "      <td>128 GB ROM15.49 cm (6.1 inch) Super Retina XDR...</td>\n",
       "      <td>https://www.flipkart.com/apple-iphone-15-green...</td>\n",
       "    </tr>\n",
       "    <tr>\n",
       "      <th>3</th>\n",
       "      <td>3</td>\n",
       "      <td>3</td>\n",
       "      <td>OnePlus N20 SE</td>\n",
       "      <td>₹11,489</td>\n",
       "      <td>4.0</td>\n",
       "      <td>1005</td>\n",
       "      <td>41</td>\n",
       "      <td>4</td>\n",
       "      <td>128</td>\n",
       "      <td>6.56</td>\n",
       "      <td>50MP</td>\n",
       "      <td>4 GB RAM | 128 GB ROM16.66 cm (6.56 inch) Disp...</td>\n",
       "      <td>https://www.flipkart.com/oneplus-n20-se-jade-w...</td>\n",
       "    </tr>\n",
       "    <tr>\n",
       "      <th>5</th>\n",
       "      <td>5</td>\n",
       "      <td>5</td>\n",
       "      <td>OnePlus 12R</td>\n",
       "      <td>₹38,989</td>\n",
       "      <td>4.5</td>\n",
       "      <td>4278</td>\n",
       "      <td>292</td>\n",
       "      <td>8</td>\n",
       "      <td>128</td>\n",
       "      <td>6.78</td>\n",
       "      <td>50MP</td>\n",
       "      <td>8 GB RAM | 128 GB ROM17.22 cm (6.78 inch) Disp...</td>\n",
       "      <td>https://www.flipkart.com/oneplus-12r-cool-blue...</td>\n",
       "    </tr>\n",
       "    <tr>\n",
       "      <th>6</th>\n",
       "      <td>6</td>\n",
       "      <td>6</td>\n",
       "      <td>SAMSUNG Galaxy F14 5G</td>\n",
       "      <td>₹10,990</td>\n",
       "      <td>4.2</td>\n",
       "      <td>45538</td>\n",
       "      <td>2989</td>\n",
       "      <td>4</td>\n",
       "      <td>128</td>\n",
       "      <td>6.60</td>\n",
       "      <td>50MP + 2MP</td>\n",
       "      <td>4 GB RAM | 128 GB ROM | Expandable Upto 1 TB16...</td>\n",
       "      <td>https://www.flipkart.com/samsung-galaxy-f14-5g...</td>\n",
       "    </tr>\n",
       "    <tr>\n",
       "      <th>7</th>\n",
       "      <td>7</td>\n",
       "      <td>7</td>\n",
       "      <td>CMF by Nothing Phone 1</td>\n",
       "      <td>₹15,999</td>\n",
       "      <td>4.4</td>\n",
       "      <td>8057</td>\n",
       "      <td>701</td>\n",
       "      <td>6</td>\n",
       "      <td>128</td>\n",
       "      <td>6.67</td>\n",
       "      <td>50MP + 2MP</td>\n",
       "      <td>6 GB RAM | 128 GB ROM | Expandable Upto 2 TB16...</td>\n",
       "      <td>https://www.flipkart.com/cmf-nothing-phone-1-b...</td>\n",
       "    </tr>\n",
       "  </tbody>\n",
       "</table>\n",
       "</div>"
      ],
      "text/plain": [
       "   level_0  id                    Name    Price  stars  rating  reviews  RAM  \\\n",
       "0        0   0         Apple iPhone 15  ₹65,999    4.6   44793     2402  NIL   \n",
       "3        3   3          OnePlus N20 SE  ₹11,489    4.0    1005       41    4   \n",
       "5        5   5             OnePlus 12R  ₹38,989    4.5    4278      292    8   \n",
       "6        6   6   SAMSUNG Galaxy F14 5G  ₹10,990    4.2   45538     2989    4   \n",
       "7        7   7  CMF by Nothing Phone 1  ₹15,999    4.4    8057      701    6   \n",
       "\n",
       "  storage  display       camera  \\\n",
       "0     128     6.10  48MP + 12MP   \n",
       "3     128     6.56        50MP    \n",
       "5     128     6.78        50MP    \n",
       "6     128     6.60   50MP + 2MP   \n",
       "7     128     6.67   50MP + 2MP   \n",
       "\n",
       "                                         description  \\\n",
       "0  128 GB ROM15.49 cm (6.1 inch) Super Retina XDR...   \n",
       "3  4 GB RAM | 128 GB ROM16.66 cm (6.56 inch) Disp...   \n",
       "5  8 GB RAM | 128 GB ROM17.22 cm (6.78 inch) Disp...   \n",
       "6  4 GB RAM | 128 GB ROM | Expandable Upto 1 TB16...   \n",
       "7  6 GB RAM | 128 GB ROM | Expandable Upto 2 TB16...   \n",
       "\n",
       "                                                 url  \n",
       "0  https://www.flipkart.com/apple-iphone-15-green...  \n",
       "3  https://www.flipkart.com/oneplus-n20-se-jade-w...  \n",
       "5  https://www.flipkart.com/oneplus-12r-cool-blue...  \n",
       "6  https://www.flipkart.com/samsung-galaxy-f14-5g...  \n",
       "7  https://www.flipkart.com/cmf-nothing-phone-1-b...  "
      ]
     },
     "execution_count": 14,
     "metadata": {},
     "output_type": "execute_result"
    }
   ],
   "source": [
    "df.head()"
   ]
  },
  {
   "cell_type": "code",
   "execution_count": 15,
   "id": "09c53c25-55ab-4acc-a6ea-c7edbad7eac5",
   "metadata": {},
   "outputs": [
    {
     "name": "stdout",
     "output_type": "stream",
     "text": [
      "<class 'pandas.core.frame.DataFrame'>\n",
      "Index: 286 entries, 0 to 978\n",
      "Data columns (total 13 columns):\n",
      " #   Column       Non-Null Count  Dtype  \n",
      "---  ------       --------------  -----  \n",
      " 0   level_0      286 non-null    int64  \n",
      " 1   id           286 non-null    int64  \n",
      " 2   Name         286 non-null    object \n",
      " 3   Price        286 non-null    object \n",
      " 4   stars        286 non-null    float64\n",
      " 5   rating       286 non-null    int32  \n",
      " 6   reviews      286 non-null    int32  \n",
      " 7   RAM          286 non-null    object \n",
      " 8   storage      286 non-null    object \n",
      " 9   display      286 non-null    float64\n",
      " 10  camera       262 non-null    object \n",
      " 11  description  286 non-null    object \n",
      " 12  url          286 non-null    object \n",
      "dtypes: float64(2), int32(2), int64(2), object(7)\n",
      "memory usage: 29.0+ KB\n"
     ]
    }
   ],
   "source": [
    "df.info()"
   ]
  },
  {
   "cell_type": "code",
   "execution_count": 19,
   "id": "25345062-310f-4bbe-a7d3-a33f354685c5",
   "metadata": {},
   "outputs": [],
   "source": [
    "r1=df['rating']>=50\n",
    "r2=df['reviews']>=10\n",
    "df =df[r1 & r2]"
   ]
  },
  {
   "cell_type": "code",
   "execution_count": 23,
   "id": "d7ae9ee9-be18-4f3a-adc8-005033442bcd",
   "metadata": {},
   "outputs": [
    {
     "name": "stderr",
     "output_type": "stream",
     "text": [
      "C:\\Users\\bagga\\AppData\\Local\\Temp\\ipykernel_18692\\935124744.py:9: FutureWarning: A value is trying to be set on a copy of a DataFrame or Series through chained assignment using an inplace method.\n",
      "The behavior will change in pandas 3.0. This inplace method will never work because the intermediate object on which we are setting values always behaves as a copy.\n",
      "\n",
      "For example, when doing 'df[col].method(value, inplace=True)', try using 'df.method({col: value}, inplace=True)' or df[col] = df[col].method(value) instead, to perform the operation inplace on the original object.\n",
      "\n",
      "\n",
      "  df['features'].fillna('unknown', inplace=True)\n"
     ]
    }
   ],
   "source": [
    "df['features'] = (\n",
    "    df['Name'] + ' ' +\n",
    "    df['camera'] + ' ' +\n",
    "    df['Price'].astype(str) + ' ' +\n",
    "    df['stars'].astype(str) + ' ' +\n",
    "    df['RAM'].astype(str) + ' ' +\n",
    "    df['storage'].astype(str)\n",
    ")\n",
    "df['features'].fillna('unknown', inplace=True)\n",
    "df['features'] = df['features'].astype(str)"
   ]
  },
  {
   "cell_type": "code",
   "execution_count": 24,
   "id": "cc75abc9-c121-4828-8464-87da8ac5173d",
   "metadata": {},
   "outputs": [],
   "source": [
    "import pickle\n",
    "from sklearn.feature_extraction.text import TfidfVectorizer\n",
    "from sklearn.metrics.pairwise import cosine_similarity\n",
    "from sklearn.feature_extraction.text import CountVectorizer\n",
    "cv = CountVectorizer(max_features=1500,stop_words='english')"
   ]
  },
  {
   "cell_type": "code",
   "execution_count": 25,
   "id": "305fce4b-daed-4f14-bb35-d6080691dd92",
   "metadata": {},
   "outputs": [],
   "source": [
    "vector = cv.fit_transform(df['features']).toarray()"
   ]
  },
  {
   "cell_type": "code",
   "execution_count": 26,
   "id": "f88b5778-4d91-4522-bc2b-ca139bd62013",
   "metadata": {},
   "outputs": [
    {
     "data": {
      "text/plain": [
       "(246, 412)"
      ]
     },
     "execution_count": 26,
     "metadata": {},
     "output_type": "execute_result"
    }
   ],
   "source": [
    "vector.shape"
   ]
  },
  {
   "cell_type": "code",
   "execution_count": 28,
   "id": "761679c5-8b59-4aa2-bfe5-a07412670be2",
   "metadata": {},
   "outputs": [],
   "source": [
    "similarity = cosine_similarity(vector)"
   ]
  },
  {
   "cell_type": "code",
   "execution_count": 29,
   "id": "342a2024-a288-4bc6-9374-094fa2279e41",
   "metadata": {},
   "outputs": [
    {
     "data": {
      "text/plain": [
       "array([[1.        , 0.12598816, 0.13608276, ..., 0.13608276, 0.20100756,\n",
       "        0.20100756],\n",
       "       [0.12598816, 1.        , 0.46291005, ..., 0.        , 0.        ,\n",
       "        0.        ],\n",
       "       [0.13608276, 0.46291005, 1.        , ..., 0.        , 0.        ,\n",
       "        0.        ],\n",
       "       ...,\n",
       "       [0.13608276, 0.        , 0.        , ..., 1.        , 0.24618298,\n",
       "        0.24618298],\n",
       "       [0.20100756, 0.        , 0.        , ..., 0.24618298, 1.        ,\n",
       "        0.81818182],\n",
       "       [0.20100756, 0.        , 0.        , ..., 0.24618298, 0.81818182,\n",
       "        1.        ]])"
      ]
     },
     "execution_count": 29,
     "metadata": {},
     "output_type": "execute_result"
    }
   ],
   "source": [
    "similarity"
   ]
  },
  {
   "cell_type": "code",
   "execution_count": 37,
   "id": "258404f2-a28e-4ab3-bd24-3e0369de3d35",
   "metadata": {},
   "outputs": [],
   "source": [
    "def get_recommendations(product_index, num_recommendations=5):\n",
    "    sim_scores = list(enumerate(similarity[product_index]))\n",
    "    sim_scores = sorted(sim_scores, key=lambda x: x[1], reverse=True)\n",
    "    sim_scores = sim_scores[1:num_recommendations + 1]  # Exclude the product itself\n",
    "    recommended_indices = [i[0] for i in sim_scores]\n",
    "    return df.iloc[recommended_indices]\n"
   ]
  },
  {
   "cell_type": "code",
   "execution_count": 38,
   "id": "10eaca79-f55d-4065-8d46-bff3c271cfa0",
   "metadata": {},
   "outputs": [
    {
     "data": {
      "text/html": [
       "<div>\n",
       "<style scoped>\n",
       "    .dataframe tbody tr th:only-of-type {\n",
       "        vertical-align: middle;\n",
       "    }\n",
       "\n",
       "    .dataframe tbody tr th {\n",
       "        vertical-align: top;\n",
       "    }\n",
       "\n",
       "    .dataframe thead th {\n",
       "        text-align: right;\n",
       "    }\n",
       "</style>\n",
       "<table border=\"1\" class=\"dataframe\">\n",
       "  <thead>\n",
       "    <tr style=\"text-align: right;\">\n",
       "      <th></th>\n",
       "      <th>level_0</th>\n",
       "      <th>id</th>\n",
       "      <th>Name</th>\n",
       "      <th>Price</th>\n",
       "      <th>stars</th>\n",
       "      <th>rating</th>\n",
       "      <th>reviews</th>\n",
       "      <th>RAM</th>\n",
       "      <th>storage</th>\n",
       "      <th>display</th>\n",
       "      <th>camera</th>\n",
       "      <th>description</th>\n",
       "      <th>url</th>\n",
       "      <th>features</th>\n",
       "    </tr>\n",
       "  </thead>\n",
       "  <tbody>\n",
       "    <tr>\n",
       "      <th>5</th>\n",
       "      <td>5</td>\n",
       "      <td>5</td>\n",
       "      <td>OnePlus 12R</td>\n",
       "      <td>₹38,989</td>\n",
       "      <td>4.5</td>\n",
       "      <td>4278</td>\n",
       "      <td>292</td>\n",
       "      <td>8</td>\n",
       "      <td>128</td>\n",
       "      <td>6.78</td>\n",
       "      <td>50MP</td>\n",
       "      <td>8 GB RAM | 128 GB ROM17.22 cm (6.78 inch) Disp...</td>\n",
       "      <td>https://www.flipkart.com/oneplus-12r-cool-blue...</td>\n",
       "      <td>OnePlus 12R 50MP  ₹38,989 4.5 8 128</td>\n",
       "    </tr>\n",
       "    <tr>\n",
       "      <th>53</th>\n",
       "      <td>53</td>\n",
       "      <td>53</td>\n",
       "      <td>SAMSUNG Galaxy M14 5G</td>\n",
       "      <td>₹11,895</td>\n",
       "      <td>4.2</td>\n",
       "      <td>6481</td>\n",
       "      <td>346</td>\n",
       "      <td>4</td>\n",
       "      <td>128</td>\n",
       "      <td>6.60</td>\n",
       "      <td>50MP + 50MP</td>\n",
       "      <td>4 GB RAM | 128 GB ROM | Expandable Upto 256 GB...</td>\n",
       "      <td>https://www.flipkart.com/samsung-galaxy-m14-5g...</td>\n",
       "      <td>SAMSUNG Galaxy M14 5G 50MP + 50MP ₹11,895 4.2 ...</td>\n",
       "    </tr>\n",
       "    <tr>\n",
       "      <th>30</th>\n",
       "      <td>30</td>\n",
       "      <td>30</td>\n",
       "      <td>OnePlus 11R 5G</td>\n",
       "      <td>₹30,469</td>\n",
       "      <td>4.5</td>\n",
       "      <td>8230</td>\n",
       "      <td>623</td>\n",
       "      <td>8</td>\n",
       "      <td>128</td>\n",
       "      <td>6.70</td>\n",
       "      <td>50MP</td>\n",
       "      <td>8 GB RAM | 128 GB ROM17.02 cm (6.7 inch) Displ...</td>\n",
       "      <td>https://www.flipkart.com/oneplus-11r-5g-galact...</td>\n",
       "      <td>OnePlus 11R 5G 50MP  ₹30,469 4.5 8 128</td>\n",
       "    </tr>\n",
       "    <tr>\n",
       "      <th>437</th>\n",
       "      <td>437</td>\n",
       "      <td>437</td>\n",
       "      <td>OnePlus Nord 3 5G</td>\n",
       "      <td>₹21,229</td>\n",
       "      <td>4.3</td>\n",
       "      <td>11600</td>\n",
       "      <td>960</td>\n",
       "      <td>8</td>\n",
       "      <td>128</td>\n",
       "      <td>6.74</td>\n",
       "      <td>50MP</td>\n",
       "      <td>8 GB RAM | 128 GB ROM17.12 cm (6.74 inch) Disp...</td>\n",
       "      <td>https://www.flipkart.com/oneplus-nord-3-5g-mis...</td>\n",
       "      <td>OnePlus Nord 3 5G 50MP  ₹21,229 4.3 8 128</td>\n",
       "    </tr>\n",
       "    <tr>\n",
       "      <th>353</th>\n",
       "      <td>353</td>\n",
       "      <td>353</td>\n",
       "      <td>OnePlus Nord CE3 5G</td>\n",
       "      <td>₹20,980</td>\n",
       "      <td>4.4</td>\n",
       "      <td>9578</td>\n",
       "      <td>793</td>\n",
       "      <td>8</td>\n",
       "      <td>128</td>\n",
       "      <td>6.70</td>\n",
       "      <td>50MP</td>\n",
       "      <td>8 GB RAM | 128 GB ROM17.02 cm (6.7 inch) Displ...</td>\n",
       "      <td>https://www.flipkart.com/oneplus-nord-ce3-5g-a...</td>\n",
       "      <td>OnePlus Nord CE3 5G 50MP  ₹20,980 4.4 8 128</td>\n",
       "    </tr>\n",
       "  </tbody>\n",
       "</table>\n",
       "</div>"
      ],
      "text/plain": [
       "     level_0   id                   Name    Price  stars  rating  reviews RAM  \\\n",
       "5          5    5            OnePlus 12R  ₹38,989    4.5    4278      292   8   \n",
       "53        53   53  SAMSUNG Galaxy M14 5G  ₹11,895    4.2    6481      346   4   \n",
       "30        30   30         OnePlus 11R 5G  ₹30,469    4.5    8230      623   8   \n",
       "437      437  437      OnePlus Nord 3 5G  ₹21,229    4.3   11600      960   8   \n",
       "353      353  353    OnePlus Nord CE3 5G  ₹20,980    4.4    9578      793   8   \n",
       "\n",
       "    storage  display       camera  \\\n",
       "5       128     6.78        50MP    \n",
       "53      128     6.60  50MP + 50MP   \n",
       "30      128     6.70        50MP    \n",
       "437     128     6.74        50MP    \n",
       "353     128     6.70        50MP    \n",
       "\n",
       "                                           description  \\\n",
       "5    8 GB RAM | 128 GB ROM17.22 cm (6.78 inch) Disp...   \n",
       "53   4 GB RAM | 128 GB ROM | Expandable Upto 256 GB...   \n",
       "30   8 GB RAM | 128 GB ROM17.02 cm (6.7 inch) Displ...   \n",
       "437  8 GB RAM | 128 GB ROM17.12 cm (6.74 inch) Disp...   \n",
       "353  8 GB RAM | 128 GB ROM17.02 cm (6.7 inch) Displ...   \n",
       "\n",
       "                                                   url  \\\n",
       "5    https://www.flipkart.com/oneplus-12r-cool-blue...   \n",
       "53   https://www.flipkart.com/samsung-galaxy-m14-5g...   \n",
       "30   https://www.flipkart.com/oneplus-11r-5g-galact...   \n",
       "437  https://www.flipkart.com/oneplus-nord-3-5g-mis...   \n",
       "353  https://www.flipkart.com/oneplus-nord-ce3-5g-a...   \n",
       "\n",
       "                                              features  \n",
       "5                  OnePlus 12R 50MP  ₹38,989 4.5 8 128  \n",
       "53   SAMSUNG Galaxy M14 5G 50MP + 50MP ₹11,895 4.2 ...  \n",
       "30              OnePlus 11R 5G 50MP  ₹30,469 4.5 8 128  \n",
       "437          OnePlus Nord 3 5G 50MP  ₹21,229 4.3 8 128  \n",
       "353        OnePlus Nord CE3 5G 50MP  ₹20,980 4.4 8 128  "
      ]
     },
     "execution_count": 38,
     "metadata": {},
     "output_type": "execute_result"
    }
   ],
   "source": [
    "get_recommendations(1)"
   ]
  },
  {
   "cell_type": "code",
   "execution_count": 40,
   "id": "dde0450b-6169-4131-a48a-d0c7a9bf6776",
   "metadata": {},
   "outputs": [],
   "source": [
    "with open('mobile_recommender.pkl', 'wb') as model_file:\n",
    "    pickle.dump(similarity, model_file)\n",
    "\n",
    "df.to_csv('Mobiles_Dataset.csv', index=False)"
   ]
  },
  {
   "cell_type": "code",
   "execution_count": null,
   "id": "dc7766dc-5fe5-4f15-8ede-4cb07d9ed95a",
   "metadata": {},
   "outputs": [],
   "source": []
  }
 ],
 "metadata": {
  "kernelspec": {
   "display_name": "Python 3 (ipykernel)",
   "language": "python",
   "name": "python3"
  },
  "language_info": {
   "codemirror_mode": {
    "name": "ipython",
    "version": 3
   },
   "file_extension": ".py",
   "mimetype": "text/x-python",
   "name": "python",
   "nbconvert_exporter": "python",
   "pygments_lexer": "ipython3",
   "version": "3.11.9"
  }
 },
 "nbformat": 4,
 "nbformat_minor": 5
}
